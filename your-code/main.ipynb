{
 "cells": [
  {
   "cell_type": "markdown",
   "metadata": {},
   "source": [
    "#### 1. Import pandas library"
   ]
  },
  {
   "cell_type": "code",
   "execution_count": 2,
   "metadata": {},
   "outputs": [],
   "source": [
    "import pandas as pd"
   ]
  },
  {
   "cell_type": "markdown",
   "metadata": {},
   "source": [
    "#### 2. Import users table:"
   ]
  },
  {
   "cell_type": "code",
   "execution_count": 3,
   "metadata": {},
   "outputs": [
    {
     "name": "stdout",
     "output_type": "stream",
     "text": [
      "   Id  Reputation         CreationDate   DisplayName       LastAccessDate  \\\n",
      "0  -1           1  2010-07-19 06:55:26     Community  2010-07-19 06:55:26   \n",
      "1   2         101  2010-07-19 14:01:36  Geoff Dalgas  2013-11-12 22:07:23   \n",
      "2   3         101  2010-07-19 15:34:50  Jarrod Dixon  2014-08-08 06:42:58   \n",
      "3   4         101  2010-07-19 19:03:27        Emmett  2014-01-02 09:31:02   \n",
      "4   5        6792  2010-07-19 19:03:57         Shane  2014-08-13 00:23:47   \n",
      "\n",
      "                       WebsiteUrl            Location  \\\n",
      "0  http://meta.stackexchange.com/  on the server farm   \n",
      "1        http://stackoverflow.com       Corvallis, OR   \n",
      "2        http://stackoverflow.com        New York, NY   \n",
      "3    http://minesweeperonline.com   San Francisco, CA   \n",
      "4         http://www.statalgo.com        New York, NY   \n",
      "\n",
      "                                             AboutMe  Views  UpVotes  \\\n",
      "0  <p>Hi, I'm not really a person.</p>\\n\\n<p>I'm ...      0     5007   \n",
      "1  <p>Developer on the StackOverflow team.  Find ...     25        3   \n",
      "2  <p><a href=\"http://blog.stackoverflow.com/2009...     22       19   \n",
      "3  <p>currently at a startup in SF</p>\\n\\n<p>form...     11        0   \n",
      "4  <p>Quantitative researcher focusing on statist...   1145      662   \n",
      "\n",
      "   DownVotes  AccountId   Age                     ProfileImageUrl  \n",
      "0       1920         -1   NaN                                 NaN  \n",
      "1          0          2  37.0                                 NaN  \n",
      "2          0          3  35.0                                 NaN  \n",
      "3          0       1998  28.0  http://i.stack.imgur.com/d1oHX.jpg  \n",
      "4          5      54503  35.0                                 NaN  \n"
     ]
    }
   ],
   "source": [
    "users_data = pd.read_csv('/Users/jossuebangos/Documents/GitHub/lab-data-cleaning/your-code/users_table.csv')\n",
    "print(users_data.head())"
   ]
  },
  {
   "cell_type": "markdown",
   "metadata": {},
   "source": [
    "#### 3. Rename Id column to userId"
   ]
  },
  {
   "cell_type": "code",
   "execution_count": 4,
   "metadata": {},
   "outputs": [
    {
     "name": "stdout",
     "output_type": "stream",
     "text": [
      "Index(['userId', 'Reputation', 'CreationDate', 'DisplayName', 'LastAccessDate',\n",
      "       'WebsiteUrl', 'Location', 'AboutMe', 'Views', 'UpVotes', 'DownVotes',\n",
      "       'AccountId', 'Age', 'ProfileImageUrl'],\n",
      "      dtype='object')\n"
     ]
    }
   ],
   "source": [
    "#rename function in Pandas, one needs to specify a mapper, a dictionary with old name as keys and new name as values. \n",
    "\n",
    "users_data.rename(columns={'Id':'userId'},inplace=True)\n",
    "#print(users_data.head())\n",
    "print(users_data.columns)"
   ]
  },
  {
   "cell_type": "markdown",
   "metadata": {},
   "source": [
    "#### 4. Import posts table:"
   ]
  },
  {
   "cell_type": "code",
   "execution_count": 5,
   "metadata": {},
   "outputs": [],
   "source": [
    "posts_data = pd.read_csv('/Users/jossuebangos/Documents/GitHub/lab-data-cleaning/your-code/posts_table.csv')\n",
    "#print(posts_data.head())"
   ]
  },
  {
   "cell_type": "markdown",
   "metadata": {},
   "source": [
    "#### 5. Rename Id column to postId and OwnerUserId to userId"
   ]
  },
  {
   "cell_type": "code",
   "execution_count": 6,
   "metadata": {},
   "outputs": [
    {
     "name": "stdout",
     "output_type": "stream",
     "text": [
      "Index(['postId', 'PostTypeId', 'AcceptedAnswerId', 'CreaionDate', 'Score',\n",
      "       'ViewCount', 'Body', 'userId', 'LasActivityDate', 'Title', 'Tags',\n",
      "       'AnswerCount', 'CommentCount', 'FavoriteCount', 'LastEditorUserId',\n",
      "       'LastEditDate', 'CommunityOwnedDate', 'ParentId', 'ClosedDate',\n",
      "       'OwnerDisplayName', 'LastEditorDisplayName'],\n",
      "      dtype='object')\n"
     ]
    }
   ],
   "source": [
    "posts_data.rename(columns={'Id':'postId','OwnerUserId':'userId'},inplace=True)\n",
    "print(posts_data.columns)"
   ]
  },
  {
   "cell_type": "markdown",
   "metadata": {},
   "source": [
    "#### 6. Define new dataframes for users and posts with the following selected columns:\n",
    "    **users columns**: userId, Reputation,Views,UpVotes,DownVotes\n",
    "    **posts columns**: postId, Score,userId,ViewCount,CommentCount"
   ]
  },
  {
   "cell_type": "code",
   "execution_count": 12,
   "metadata": {},
   "outputs": [
    {
     "data": {
      "text/html": [
       "<div>\n",
       "<style scoped>\n",
       "    .dataframe tbody tr th:only-of-type {\n",
       "        vertical-align: middle;\n",
       "    }\n",
       "\n",
       "    .dataframe tbody tr th {\n",
       "        vertical-align: top;\n",
       "    }\n",
       "\n",
       "    .dataframe thead th {\n",
       "        text-align: right;\n",
       "    }\n",
       "</style>\n",
       "<table border=\"1\" class=\"dataframe\">\n",
       "  <thead>\n",
       "    <tr style=\"text-align: right;\">\n",
       "      <th></th>\n",
       "      <th>postId</th>\n",
       "      <th>Score</th>\n",
       "      <th>userId</th>\n",
       "      <th>ViewCount</th>\n",
       "      <th>CommentCount</th>\n",
       "    </tr>\n",
       "  </thead>\n",
       "  <tbody>\n",
       "    <tr>\n",
       "      <th>0</th>\n",
       "      <td>1</td>\n",
       "      <td>23</td>\n",
       "      <td>8.0</td>\n",
       "      <td>1278.0</td>\n",
       "      <td>1</td>\n",
       "    </tr>\n",
       "    <tr>\n",
       "      <th>1</th>\n",
       "      <td>2</td>\n",
       "      <td>22</td>\n",
       "      <td>24.0</td>\n",
       "      <td>8198.0</td>\n",
       "      <td>1</td>\n",
       "    </tr>\n",
       "    <tr>\n",
       "      <th>2</th>\n",
       "      <td>3</td>\n",
       "      <td>54</td>\n",
       "      <td>18.0</td>\n",
       "      <td>3613.0</td>\n",
       "      <td>4</td>\n",
       "    </tr>\n",
       "    <tr>\n",
       "      <th>3</th>\n",
       "      <td>4</td>\n",
       "      <td>13</td>\n",
       "      <td>23.0</td>\n",
       "      <td>5224.0</td>\n",
       "      <td>2</td>\n",
       "    </tr>\n",
       "    <tr>\n",
       "      <th>4</th>\n",
       "      <td>5</td>\n",
       "      <td>81</td>\n",
       "      <td>23.0</td>\n",
       "      <td>NaN</td>\n",
       "      <td>3</td>\n",
       "    </tr>\n",
       "    <tr>\n",
       "      <th>...</th>\n",
       "      <td>...</td>\n",
       "      <td>...</td>\n",
       "      <td>...</td>\n",
       "      <td>...</td>\n",
       "      <td>...</td>\n",
       "    </tr>\n",
       "    <tr>\n",
       "      <th>39995</th>\n",
       "      <td>48321</td>\n",
       "      <td>0</td>\n",
       "      <td>19966.0</td>\n",
       "      <td>NaN</td>\n",
       "      <td>0</td>\n",
       "    </tr>\n",
       "    <tr>\n",
       "      <th>39996</th>\n",
       "      <td>48322</td>\n",
       "      <td>3</td>\n",
       "      <td>892.0</td>\n",
       "      <td>NaN</td>\n",
       "      <td>2</td>\n",
       "    </tr>\n",
       "    <tr>\n",
       "      <th>39997</th>\n",
       "      <td>48323</td>\n",
       "      <td>1</td>\n",
       "      <td>2020.0</td>\n",
       "      <td>NaN</td>\n",
       "      <td>0</td>\n",
       "    </tr>\n",
       "    <tr>\n",
       "      <th>39998</th>\n",
       "      <td>48324</td>\n",
       "      <td>3</td>\n",
       "      <td>19914.0</td>\n",
       "      <td>NaN</td>\n",
       "      <td>0</td>\n",
       "    </tr>\n",
       "    <tr>\n",
       "      <th>39999</th>\n",
       "      <td>48325</td>\n",
       "      <td>-1</td>\n",
       "      <td>19968.0</td>\n",
       "      <td>116.0</td>\n",
       "      <td>4</td>\n",
       "    </tr>\n",
       "  </tbody>\n",
       "</table>\n",
       "<p>40000 rows × 5 columns</p>\n",
       "</div>"
      ],
      "text/plain": [
       "       postId  Score   userId  ViewCount  CommentCount\n",
       "0           1     23      8.0     1278.0             1\n",
       "1           2     22     24.0     8198.0             1\n",
       "2           3     54     18.0     3613.0             4\n",
       "3           4     13     23.0     5224.0             2\n",
       "4           5     81     23.0        NaN             3\n",
       "...       ...    ...      ...        ...           ...\n",
       "39995   48321      0  19966.0        NaN             0\n",
       "39996   48322      3    892.0        NaN             2\n",
       "39997   48323      1   2020.0        NaN             0\n",
       "39998   48324      3  19914.0        NaN             0\n",
       "39999   48325     -1  19968.0      116.0             4\n",
       "\n",
       "[40000 rows x 5 columns]"
      ]
     },
     "execution_count": 12,
     "metadata": {},
     "output_type": "execute_result"
    }
   ],
   "source": [
    "new_df = pd.DataFrame(users_data,columns=('userId','Reputation','Views','UpVotes','DownVotes'))\n",
    "new_df\n",
    "\n",
    "new_posts = pd.DataFrame(posts_data,columns=('postId','Score','userId','ViewCount','CommentCount'))\n",
    "new_posts"
   ]
  },
  {
   "cell_type": "markdown",
   "metadata": {},
   "source": [
    "#### 7. Merge both dataframes, users and posts. \n",
    "You will need to make a [merge](https://pandas.pydata.org/pandas-docs/stable/generated/pandas.DataFrame.merge.html) of posts and users dataframes."
   ]
  },
  {
   "cell_type": "code",
   "execution_count": 16,
   "metadata": {},
   "outputs": [
    {
     "name": "stdout",
     "output_type": "stream",
     "text": [
      "       postId  Score   userId  ViewCount  CommentCount  Reputation  Views  \\\n",
      "0           1     23      8.0     1278.0             1        6764   1089   \n",
      "1          16     16      8.0        NaN             3        6764   1089   \n",
      "2          36     41      8.0    67396.0             7        6764   1089   \n",
      "3          65     14      8.0        NaN             3        6764   1089   \n",
      "4          78     33      8.0        NaN             4        6764   1089   \n",
      "...       ...    ...      ...        ...           ...         ...    ...   \n",
      "38957   48313     -1  19735.0        NaN             1           1      5   \n",
      "38958   48317      8  19960.0     1894.0             1         153      9   \n",
      "38959   48318      0  19962.0       52.0             4           1      1   \n",
      "38960   48321      0  19966.0        NaN             0           1      1   \n",
      "38961   48325     -1  19968.0      116.0             4           1      1   \n",
      "\n",
      "       UpVotes  DownVotes  \n",
      "0          604         25  \n",
      "1          604         25  \n",
      "2          604         25  \n",
      "3          604         25  \n",
      "4          604         25  \n",
      "...        ...        ...  \n",
      "38957        0          0  \n",
      "38958       18          0  \n",
      "38959        0          0  \n",
      "38960        0          0  \n",
      "38961        0          0  \n",
      "\n",
      "[38962 rows x 9 columns]\n"
     ]
    }
   ],
   "source": [
    "merged_df = new_posts.merge(new_df,on='userId')\n",
    "print(merged_df)\n",
    "#print(new_df)\n",
    "#print(new_posts)"
   ]
  },
  {
   "cell_type": "markdown",
   "metadata": {},
   "source": [
    "#### 8. How many missing values do you have in your merged dataframe? On which columns?"
   ]
  },
  {
   "cell_type": "code",
   "execution_count": 38,
   "metadata": {},
   "outputs": [
    {
     "name": "stdout",
     "output_type": "stream",
     "text": [
      "       postId  Score   userId  ViewCount  CommentCount  Reputation  Views  \\\n",
      "0           1     23      8.0     1278.0             1        6764   1089   \n",
      "2          36     41      8.0    67396.0             7        6764   1089   \n",
      "6         114     30      8.0     1220.0             1        6764   1089   \n",
      "9         168     17      8.0     1022.0             1        6764   1089   \n",
      "10        170     56      8.0     7733.0             1        6764   1089   \n",
      "...       ...    ...      ...        ...           ...         ...    ...   \n",
      "38955   48306      5  19949.0      551.0             1          28      0   \n",
      "38956   48310      0  19953.0      240.0             1           1      2   \n",
      "38958   48317      8  19960.0     1894.0             1         153      9   \n",
      "38959   48318      0  19962.0       52.0             4           1      1   \n",
      "38961   48325     -1  19968.0      116.0             4           1      1   \n",
      "\n",
      "       UpVotes  DownVotes  \n",
      "0          604         25  \n",
      "2          604         25  \n",
      "6          604         25  \n",
      "9          604         25  \n",
      "10         604         25  \n",
      "...        ...        ...  \n",
      "38955        0          0  \n",
      "38956        0          0  \n",
      "38958       18          0  \n",
      "38959        0          0  \n",
      "38961        0          0  \n",
      "\n",
      "[15390 rows x 9 columns]\n"
     ]
    }
   ],
   "source": [
    "import numpy as np \n",
    "merged_df.isnull().sum()\n",
    "#print(merged_df)\n",
    "#I have the following options: \n",
    "# 1. fillna()\n",
    "# 2. replace()\n",
    "# 3. interpolate()\n",
    "# 4. dropna()\n",
    "\n",
    "df1= merged_df.fillna(0)\n",
    "#print(df1)\n",
    "df2 = merged_df.replace(to_replace = np.nan, value=1) #I represent a value with numpy\n",
    "#print(df2)\n",
    "df3 = merged_df.interpolate(method='linear', limit_direction ='both')\n",
    "#print (df3)\n",
    "df4 = merged_df.dropna()\n",
    "print(df4)"
   ]
  },
  {
   "cell_type": "markdown",
   "metadata": {},
   "source": [
    "#### 9. You will need to make something with missing values.  Will you clean or filling them? Explain. \n",
    "**Remember** to check the results of your code before passing to the next step"
   ]
  },
  {
   "cell_type": "code",
   "execution_count": null,
   "metadata": {},
   "outputs": [],
   "source": []
  },
  {
   "cell_type": "markdown",
   "metadata": {},
   "source": [
    "#### 10. Adjust the data types in order to avoid future issues. Which ones should be changed? "
   ]
  },
  {
   "cell_type": "code",
   "execution_count": 48,
   "metadata": {},
   "outputs": [
    {
     "name": "stdout",
     "output_type": "stream",
     "text": [
      "postId          int64\n",
      "Score           int64\n",
      "userId          int64\n",
      "ViewCount       int64\n",
      "CommentCount    int64\n",
      "Reputation      int64\n",
      "Views           int64\n",
      "UpVotes         int64\n",
      "DownVotes       int64\n",
      "dtype: object\n"
     ]
    }
   ],
   "source": [
    "#merged_df.dtypes\n",
    "print(df4.astype('int64').dtypes)\n",
    "\n"
   ]
  },
  {
   "cell_type": "code",
   "execution_count": 47,
   "metadata": {},
   "outputs": [
    {
     "name": "stdout",
     "output_type": "stream",
     "text": [
      "postId            int64\n",
      "Score             int64\n",
      "userId          float64\n",
      "ViewCount       float64\n",
      "CommentCount      int64\n",
      "Reputation        int64\n",
      "Views             int64\n",
      "UpVotes           int64\n",
      "DownVotes         int64\n",
      "dtype: object\n"
     ]
    }
   ],
   "source": [
    "print(df4.astype({'Views':'int64'}).dtypes)"
   ]
  },
  {
   "cell_type": "code",
   "execution_count": null,
   "metadata": {},
   "outputs": [],
   "source": []
  }
 ],
 "metadata": {
  "kernelspec": {
   "display_name": "Python 3",
   "language": "python",
   "name": "python3"
  },
  "language_info": {
   "codemirror_mode": {
    "name": "ipython",
    "version": 3
   },
   "file_extension": ".py",
   "mimetype": "text/x-python",
   "name": "python",
   "nbconvert_exporter": "python",
   "pygments_lexer": "ipython3",
   "version": "3.8.3"
  }
 },
 "nbformat": 4,
 "nbformat_minor": 2
}
